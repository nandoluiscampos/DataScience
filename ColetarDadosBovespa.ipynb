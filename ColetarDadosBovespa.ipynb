{
 "cells": [
  {
   "cell_type": "markdown",
   "id": "6db4150e",
   "metadata": {},
   "source": [
    "# Entrar na B3 e Mandar dados dos Estrangeiros para o Telegram"
   ]
  },
  {
   "cell_type": "code",
   "execution_count": 9,
   "id": "a9ca7622",
   "metadata": {},
   "outputs": [],
   "source": [
    "import pyautogui\n",
    "import time\n",
    "import pyperclip\n",
    "from bs4 import BeautifulSoup as bs\n",
    "import requests as rq\n",
    "import re\n",
    "import pandas as pd\n",
    "from selenium import webdriver"
   ]
  },
  {
   "cell_type": "code",
   "execution_count": null,
   "id": "8359c812",
   "metadata": {},
   "outputs": [],
   "source": [
    "\n",
    "pyautogui.PAUSE=1\n",
    "#vai começar\n",
    "\n",
    "# opção 1 - abrir navegador novo e entrar no chrome\n",
    "# pyautogui.press(\"winleft\")\n",
    "# pyautogui.write(\"chrome\")\n",
    "# pyautogui.press(\"enter\")\n",
    "\n",
    "# opção 2 abrir nova aba\n",
    "pyautogui.hotkey(\"ctrl\" , \"t\")\n",
    "#colar endereço site\n",
    "link = \"http://www.b3.com.br/pt_br/market-data-e-indices/servicos-de-dados/market-data/consultas/mercado-de-derivativos/contratos-em-aberto/por-tipo-de-participante/\"\n",
    "pyperclip.copy(link)\n",
    "pyautogui.hotkey(\"ctrl\",\"v\")\n",
    "pyautogui.hotkey(\"Enter\")\n",
    "time.sleep(4)\n",
    "pyautogui.hotkey(\"ctrl\", \"f\")\n",
    "pyautogui.write(\"MERCADO FUTURO DE IBOVESPA\")\n",
    "# DAR CINCO CLICKS\n",
    "pyautogui.click(1354, 719, clicks=5)\n",
    "time.sleep(2)\n",
    "#copiar os dados\n",
    "pyautogui.click(699, 561, clicks=2)\n",
    "pyautogui.hotkey(\"ctrl\",\"c\")\n",
    "time.sleep(2)\n",
    "#abrir a calculadora\n",
    "pyautogui.press(\"winleft\")\n",
    "time.sleep(2.5)\n",
    "pyautogui.write(\"calculadora\")\n",
    "pyautogui.press(\"enter\")\n",
    "pyautogui.hotkey(\"ctrl\",\"v\")\n",
    "#pegar o outro dado\n",
    "pyautogui.click(1066, 561, clicks=1)\n",
    "time.sleep(1)\n",
    "pyautogui.click(1066, 561, clicks=2)\n",
    "pyautogui.hotkey(\"ctrl\",\"c\")\n",
    "#voltar na calculadora # ARRUMAR O TAB QUANDO TUDO ESTIVER PRONTO\n",
    "time.sleep(1)\n",
    "pyautogui.hotkey(\"alt\",\"tab\")\n",
    "time.sleep(1)\n",
    "pyautogui.press(\"-\")\n",
    "pyautogui.hotkey(\"ctrl\",\"v\")\n",
    "pyautogui.press(\"enter\")\n",
    "pyautogui.hotkey(\"ctrl\",\"c\")\n",
    "pyautogui.click(1066, 561, clicks=1)\n",
    "\n",
    "#Mandar o resultado\n",
    "pyautogui.hotkey(\"ctrl\" , \"t\")\n",
    "pyautogui.click(963, 84, clicks=1)\n",
    "time.sleep(5)\n",
    "pyautogui.click(591, 684, clicks=1)\n",
    "pyautogui.hotkey(\"ctrl\",\"v\")\n",
    "texto = f\"\"\"\n",
    "Resultado da posição dos estrangeiros!!\n",
    "\"\"\"\n",
    "pyperclip.copy(texto)\n",
    "pyautogui.hotkey(\"ctrl\", 'v')\n",
    "pyautogui.press(\"enter\")\n",
    "\n"
   ]
  },
  {
   "cell_type": "markdown",
   "id": "78d6d8b6",
   "metadata": {},
   "source": [
    "# Baixar Planilha do Investing e Mandar resultado para o telegram"
   ]
  },
  {
   "cell_type": "code",
   "execution_count": 31,
   "id": "ac3f64b9",
   "metadata": {},
   "outputs": [],
   "source": [
    "pyautogui.hotkey(\"ctrl\" , \"t\")\n",
    "link = \"https://br.investing.com/indices/major-indices\"\n",
    "pyperclip.copy(link)\n",
    "pyautogui.hotkey(\"ctrl\",\"v\")\n",
    "pyautogui.hotkey(\"Enter\")\n",
    "time.sleep(18)\n",
    "pyautogui.click(1354, 717, clicks=8)\n",
    "time.sleep(2)\n",
    "pyautogui.click(774, 491, clicks=1)\n",
    "time.sleep(3)\n",
    "pyautogui.click(1345, 697, clicks=1)"
   ]
  },
  {
   "cell_type": "code",
   "execution_count": 26,
   "id": "bde4c5ca",
   "metadata": {},
   "outputs": [],
   "source": [
    "dados = pd.read_csv(r\"C:/Users/nando/Downloads/Principais Índices Mundiais.csv\")"
   ]
  },
  {
   "cell_type": "code",
   "execution_count": 27,
   "id": "c44c8cc6",
   "metadata": {
    "scrolled": true
   },
   "outputs": [
    {
     "name": "stdout",
     "output_type": "stream",
     "text": [
      "-7.8659\n"
     ]
    }
   ],
   "source": [
    "resultado = dados['Variação'].sum() / 100   # soma do valor \n",
    "print(resultado )"
   ]
  },
  {
   "cell_type": "code",
   "execution_count": 28,
   "id": "6aa2b5de",
   "metadata": {},
   "outputs": [],
   "source": [
    "pyperclip.copy(resultado)\n",
    "pyautogui.hotkey(\"ctrl\",\"t\")\n",
    "time.sleep(1)\n",
    "pyautogui.write(\"https://web.telegram.org/z/\")\n",
    "time.sleep(1)\n",
    "pyautogui.hotkey(\"Enter\")\n",
    "time.sleep(5)\n",
    "pyautogui.click(591, 684, clicks=1)\n",
    "time.sleep(1)\n",
    "pyautogui.hotkey(\"ctrl\",\"v\")\n",
    "time.sleep(1)\n",
    "texto = f\"\"\"\n",
    "Porcentagem dos Indices Mundiais!!\n",
    "\"\"\"\n",
    "pyperclip.copy(texto)\n",
    "pyautogui.hotkey(\"ctrl\", 'v')\n",
    "time.sleep(1)\n",
    "pyautogui.press(\"enter\")\n"
   ]
  },
  {
   "cell_type": "markdown",
   "id": "84077977",
   "metadata": {},
   "source": [
    "# Pegando dados do dolar futuro"
   ]
  },
  {
   "cell_type": "code",
   "execution_count": 34,
   "id": "288e62a6",
   "metadata": {},
   "outputs": [],
   "source": [
    "HEADERS = ({'user-agent' : \"Mozilla/5.0 (Windows NT 10.0; Win64; x64) AppleWebKit/537.36 (KHTML, like Gecko) Chrome/91.0.4472.124 Safari/537.36\"})\n",
    "html_completo = rq.get(\"https://br.investing.com/currencies/us-dollar-index\", headers=HEADERS)\n",
    "html_formatado = bs(html_completo.content)\n",
    "#print(html_formatado.prettify())"
   ]
  },
  {
   "cell_type": "code",
   "execution_count": 35,
   "id": "5edc283a",
   "metadata": {},
   "outputs": [
    {
     "name": "stdout",
     "output_type": "stream",
     "text": [
      "Índice Dólar Futuros (USDX) - Set 21 (DXU1)\t\n",
      "92,365\n",
      "-0,394\n",
      "  \n",
      "-0,42%\n",
      "\n"
     ]
    }
   ],
   "source": [
    "nome_dolar = html_formatado.find(\"h1\", class_=\"float_lang_base_1 relativeAttr\").text\n",
    "porcentagem = html_formatado.find(\"div\", class_=\"top bold inlineblock\").text\n",
    "dados_dolar = nome_dolar + porcentagem\n",
    "print( dados_dolar)\n",
    "\n",
    "pyperclip.copy(dados_dolar)\n",
    "time.sleep(1)\n",
    "pyautogui.hotkey(\"ctrl\",\"t\")\n",
    "time.sleep(1)\n",
    "pyautogui.write(\"https://web.telegram.org/z/\")\n",
    "time.sleep(1)\n",
    "pyautogui.hotkey(\"Enter\")\n",
    "time.sleep(5)\n",
    "pyautogui.click(591, 684, clicks=1)\n",
    "time.sleep(1)\n",
    "pyautogui.hotkey(\"ctrl\",\"v\")\n",
    "time.sleep(1)\n",
    "texto = f\"\"\"\n",
    "Variação do Dolar Futuro!!\n",
    "\"\"\"\n",
    "pyperclip.copy(texto)\n",
    "pyautogui.hotkey(\"ctrl\", 'v')\n",
    "time.sleep(1)\n",
    "pyautogui.press(\"enter\")\n",
    "time.sleep(1)\n",
    "# mandando os links da noticia e calendario economico\n",
    "pyautogui.click(591, 684, clicks=1)\n",
    "pyautogui.write(\"https://br.investing.com/economic-calendar/\")\n",
    "time.sleep(1)\n",
    "pyautogui.hotkey(\"Enter\")\n",
    "pyautogui.click(591, 684, clicks=1)\n",
    "pyautogui.write(\"https://br.investing.com/news/\")\n",
    "time.sleep(1)\n",
    "pyautogui.hotkey(\"Enter\")"
   ]
  },
  {
   "cell_type": "code",
   "execution_count": null,
   "id": "98033c90",
   "metadata": {},
   "outputs": [],
   "source": []
  },
  {
   "cell_type": "code",
   "execution_count": 29,
   "id": "bb39d052",
   "metadata": {},
   "outputs": [
    {
     "name": "stdout",
     "output_type": "stream",
     "text": [
      "Point(x=1345, y=697)\n"
     ]
    }
   ],
   "source": [
    "import pyautogui\n",
    "import time\n",
    "time.sleep(5)\n",
    "print(pyautogui.position())"
   ]
  },
  {
   "cell_type": "code",
   "execution_count": null,
   "id": "90ad8d2f",
   "metadata": {},
   "outputs": [],
   "source": []
  },
  {
   "cell_type": "code",
   "execution_count": 2,
   "id": "6339de0e",
   "metadata": {},
   "outputs": [],
   "source": [
    "\n",
    "\n",
    "\n",
    "                "
   ]
  }
 ],
 "metadata": {
  "kernelspec": {
   "display_name": "Python 3",
   "language": "python",
   "name": "python3"
  },
  "language_info": {
   "codemirror_mode": {
    "name": "ipython",
    "version": 3
   },
   "file_extension": ".py",
   "mimetype": "text/x-python",
   "name": "python",
   "nbconvert_exporter": "python",
   "pygments_lexer": "ipython3",
   "version": "3.8.8"
  }
 },
 "nbformat": 4,
 "nbformat_minor": 5
}
